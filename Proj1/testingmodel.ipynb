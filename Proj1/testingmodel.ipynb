{
 "cells": [
  {
   "cell_type": "code",
   "execution_count": 1,
   "metadata": {},
   "outputs": [
    {
     "name": "stderr",
     "output_type": "stream",
     "text": [
      "/home/dave/conda/lib/python3.6/site-packages/torchvision/datasets/mnist.py:53: UserWarning: train_data has been renamed data\n",
      "  warnings.warn(\"train_data has been renamed data\")\n",
      "/home/dave/conda/lib/python3.6/site-packages/torchvision/datasets/mnist.py:43: UserWarning: train_labels has been renamed targets\n",
      "  warnings.warn(\"train_labels has been renamed targets\")\n",
      "/home/dave/conda/lib/python3.6/site-packages/torchvision/datasets/mnist.py:58: UserWarning: test_data has been renamed data\n",
      "  warnings.warn(\"test_data has been renamed data\")\n",
      "/home/dave/conda/lib/python3.6/site-packages/torchvision/datasets/mnist.py:48: UserWarning: test_labels has been renamed targets\n",
      "  warnings.warn(\"test_labels has been renamed targets\")\n"
     ]
    },
    {
     "name": "stdout",
     "output_type": "stream",
     "text": [
      "weightsharing\n",
      "Train error : 0.0% \n",
      "Test error : 16.8%\n",
      "Train error : 0.0% \n",
      "Test error : 16.8%\n",
      "weightsharing\n",
      "Train error : 0.0% \n",
      "Test error : 18.0%\n",
      "Train error : 0.0% \n",
      "Test error : 18.0%\n",
      "weightsharing\n",
      "Train error : 0.0% \n",
      "Test error : 15.6%\n",
      "Train error : 0.0% \n",
      "Test error : 15.6%\n",
      "weightsharing\n",
      "Train error : 0.0% \n",
      "Test error : 14.9%\n",
      "Train error : 0.0% \n",
      "Test error : 14.9%\n",
      "weightsharing\n",
      "Train error : 0.0% \n",
      "Test error : 16.4%\n",
      "Train error : 0.0% \n",
      "Test error : 16.4%\n",
      "weightsharing\n",
      "Train error : 0.0% \n",
      "Test error : 16.4%\n",
      "Train error : 0.0% \n",
      "Test error : 16.4%\n",
      "weightsharing\n",
      "Train error : 0.0% \n",
      "Test error : 14.6%\n",
      "Train error : 0.0% \n",
      "Test error : 14.6%\n",
      "weightsharing\n",
      "Train error : 0.0% \n",
      "Test error : 16.2%\n",
      "Train error : 0.0% \n",
      "Test error : 16.2%\n",
      "weightsharing\n",
      "Train error : 0.0% \n",
      "Test error : 17.1%\n",
      "Train error : 0.0% \n",
      "Test error : 17.1%\n",
      "weightsharing\n",
      "Train error : 0.0% \n",
      "Test error : 16.6%\n",
      "Train error : 0.0% \n",
      "Test error : 16.6%\n",
      "weightsharing\n",
      "Train error : 0.0% \n",
      "Test error : 15.3%\n",
      "Train error : 0.0% \n",
      "Test error : 15.3%\n",
      "[16.8, 18.0, 15.6, 14.9, 16.4, 16.4, 14.6, 16.2, 17.1, 16.6, 15.3]\n"
     ]
    }
   ],
   "source": [
    "from test_function import test\n",
    "import random\n",
    "\n",
    "\n",
    "\n",
    "#Performance estimates provided in your report should be estimated through 10+ rounds for each architecture, \n",
    "#where both data and weight initialization are randomized, and you should provide estimates of standard deviations.\n",
    "out=[]\n",
    "for i in range(11):\n",
    "    random.seed(random.randint(0,1000))\n",
    "    out.append(test())\n",
    "    \n",
    "print(out)"
   ]
  },
  {
   "cell_type": "code",
   "execution_count": 2,
   "metadata": {},
   "outputs": [
    {
     "name": "stdout",
     "output_type": "stream",
     "text": [
      "mean= 16.172727272727272\n",
      "stdev= 1.0030861469394434\n"
     ]
    }
   ],
   "source": [
    "import statistics\n",
    "\n",
    "print(\"mean=\", statistics.mean(out))\n",
    "print(\"stdev=\", statistics.stdev(out))"
   ]
  },
  {
   "cell_type": "code",
   "execution_count": null,
   "metadata": {},
   "outputs": [],
   "source": []
  }
 ],
 "metadata": {
  "kernelspec": {
   "display_name": "Python 3",
   "language": "python",
   "name": "python3"
  },
  "language_info": {
   "codemirror_mode": {
    "name": "ipython",
    "version": 3
   },
   "file_extension": ".py",
   "mimetype": "text/x-python",
   "name": "python",
   "nbconvert_exporter": "python",
   "pygments_lexer": "ipython3",
   "version": "3.6.7"
  }
 },
 "nbformat": 4,
 "nbformat_minor": 2
}
